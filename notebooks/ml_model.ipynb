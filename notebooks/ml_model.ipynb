{
 "cells": [
  {
   "cell_type": "code",
   "execution_count": 2,
   "id": "6fc633af",
   "metadata": {},
   "outputs": [],
   "source": [
    "import pandas as pd\n",
    "import numpy as np\n",
    "import matplotlib.pyplot as plt \n",
    "import seaborn as sns"
   ]
  },
  {
   "cell_type": "markdown",
   "id": "f275bee3",
   "metadata": {},
   "source": [
    "## Importing CSV as DataFrame"
   ]
  },
  {
   "cell_type": "code",
   "execution_count": 4,
   "id": "46cfd557",
   "metadata": {},
   "outputs": [],
   "source": [
    "# Importing train and test data\n",
    "X_train = pd.read_csv('C:/Users/S580381/Documents/GitHub/marketing_camp_rev_pred/data/X_train.csv')\n",
    "y_train = pd.read_csv('C:/Users/S580381/Documents/GitHub/marketing_camp_rev_pred/data/y_train.csv')\n",
    "X_test = pd.read_csv('C:/Users/S580381/Documents/GitHub/marketing_camp_rev_pred/data/X_test.csv')\n",
    "y_test = pd.read_csv('C:/Users/S580381/Documents/GitHub/marketing_camp_rev_pred/data/y_test.csv')"
   ]
  },
  {
   "cell_type": "code",
   "execution_count": 5,
   "id": "014c1930",
   "metadata": {
    "vscode": {
     "languageId": "markdown"
    }
   },
   "outputs": [
    {
     "data": {
      "text/html": [
       "<div>\n",
       "<style scoped>\n",
       "    .dataframe tbody tr th:only-of-type {\n",
       "        vertical-align: middle;\n",
       "    }\n",
       "\n",
       "    .dataframe tbody tr th {\n",
       "        vertical-align: top;\n",
       "    }\n",
       "\n",
       "    .dataframe thead th {\n",
       "        text-align: right;\n",
       "    }\n",
       "</style>\n",
       "<table border=\"1\" class=\"dataframe\">\n",
       "  <thead>\n",
       "    <tr style=\"text-align: right;\">\n",
       "      <th></th>\n",
       "      <th>Impressions</th>\n",
       "      <th>Conversion_Rate</th>\n",
       "      <th>Spent</th>\n",
       "      <th>Clicks</th>\n",
       "      <th>Cpa</th>\n",
       "      <th>Age</th>\n",
       "    </tr>\n",
       "  </thead>\n",
       "  <tbody>\n",
       "    <tr>\n",
       "      <th>0</th>\n",
       "      <td>5117</td>\n",
       "      <td>0.000000</td>\n",
       "      <td>0.000000</td>\n",
       "      <td>0</td>\n",
       "      <td>0.000000</td>\n",
       "      <td>32</td>\n",
       "    </tr>\n",
       "    <tr>\n",
       "      <th>1</th>\n",
       "      <td>478480</td>\n",
       "      <td>0.040000</td>\n",
       "      <td>135.750001</td>\n",
       "      <td>75</td>\n",
       "      <td>45.250000</td>\n",
       "      <td>47</td>\n",
       "    </tr>\n",
       "    <tr>\n",
       "      <th>2</th>\n",
       "      <td>76355</td>\n",
       "      <td>0.222222</td>\n",
       "      <td>14.630000</td>\n",
       "      <td>9</td>\n",
       "      <td>7.315000</td>\n",
       "      <td>37</td>\n",
       "    </tr>\n",
       "    <tr>\n",
       "      <th>3</th>\n",
       "      <td>475184</td>\n",
       "      <td>0.045455</td>\n",
       "      <td>127.320003</td>\n",
       "      <td>88</td>\n",
       "      <td>31.830001</td>\n",
       "      <td>37</td>\n",
       "    </tr>\n",
       "    <tr>\n",
       "      <th>4</th>\n",
       "      <td>208572</td>\n",
       "      <td>0.055556</td>\n",
       "      <td>60.760000</td>\n",
       "      <td>36</td>\n",
       "      <td>30.380000</td>\n",
       "      <td>42</td>\n",
       "    </tr>\n",
       "  </tbody>\n",
       "</table>\n",
       "</div>"
      ],
      "text/plain": [
       "   Impressions  Conversion_Rate       Spent  Clicks        Cpa  Age\n",
       "0         5117         0.000000    0.000000       0   0.000000   32\n",
       "1       478480         0.040000  135.750001      75  45.250000   47\n",
       "2        76355         0.222222   14.630000       9   7.315000   37\n",
       "3       475184         0.045455  127.320003      88  31.830001   37\n",
       "4       208572         0.055556   60.760000      36  30.380000   42"
      ]
     },
     "execution_count": 5,
     "metadata": {},
     "output_type": "execute_result"
    }
   ],
   "source": [
    "X_train.head()"
   ]
  },
  {
   "cell_type": "markdown",
   "id": "79d59bb5",
   "metadata": {},
   "source": [
    "## Our data is encoded, standarized, relevant features are selected, and dataset is split into train and test splits. Now we'll start building our models."
   ]
  },
  {
   "cell_type": "code",
   "execution_count": 7,
   "id": "c2442383",
   "metadata": {},
   "outputs": [],
   "source": [
    "from sklearn.tree import DecisionTreeRegressor\n",
    "from sklearn.ensemble import RandomForestRegressor\n",
    "from sklearn.ensemble import ExtraTreesRegressor\n",
    "from sklearn.ensemble import GradientBoostingRegressor\n",
    "from xgboost import XGBRegressor\n",
    "from lightgbm import LGBMRegressor\n",
    "from sklearn.metrics import mean_absolute_error, mean_squared_error, r2_score\n",
    "from math import sqrt"
   ]
  },
  {
   "cell_type": "markdown",
   "id": "76354675",
   "metadata": {},
   "source": [
    "Creating an Evaluate function to evaluate all the metrics after model training."
   ]
  },
  {
   "cell_type": "code",
   "execution_count": 8,
   "id": "4151a757",
   "metadata": {},
   "outputs": [],
   "source": [
    "def evaluate_model(true, predicted):\n",
    "    mae = mean_absolute_error(true, predicted)\n",
    "    mse = mean_squared_error(true, predicted)\n",
    "    rmse = sqrt(mse)\n",
    "    r2 = r2_score(true, predicted)\n",
    "    \n",
    "    return mae, mse, rmse, r2"
   ]
  },
  {
   "cell_type": "code",
   "execution_count": null,
   "id": "0a542ed6",
   "metadata": {},
   "outputs": [],
   "source": [
    "models = {\n",
    "    'Decision Tree': DecisionTreeRegressor(random_state=42),\n",
    "    'Random Forest': RandomForestRegressor(random_state=42),\n",
    "    'Extra Trees': ExtraTreesRegressor(random_state=42),\n",
    "    'Gradient Boosting': GradientBoostingRegressor(random_state=42),\n",
    "    'XGBoost': XGBRegressor(random_state=42, eval_metric='mae'),\n",
    "    'LightGBM': LGBMRegressor(random_state=42)\n",
    "}\n",
    "\n",
    "model_list = []\n",
    "r2_list = []\n",
    "\n",
    "for i in range(len(models)):\n",
    "    model = list(models.values())[i]\n",
    "    model_name = list(models.keys())[i]\n",
    "    \n",
    "    # Fit the model\n",
    "    model.fit(X_train, y_train)\n",
    "    \n",
    "    # Predictions \n",
    "    y_train_pred = model.predict(X_train)\n",
    "    y_test_pred = model.predict(X_test)\n",
    "    \n",
    "    # Evalute Train and Test set\n",
    "    mae_train, mse_train, rmse_train, r2_train = evaluate_model(y_train, y_train_pred)\n",
    "    mae_test, mse_test, rmse_test, r2_test = evaluate_model(y_test, y_test_pred)\n",
    "    \n",
    "    # Append results to lists\n",
    "    print(list(models.keys())[i])\n",
    "    model_list.append(model_name)\n",
    "    \n",
    "    print(\"Model performance on Train set:\")\n",
    "    print(f\"MAE: {mae_train:.4f}\")\n",
    "    print(f\"MSE: {mse_train:.4f}\")\n",
    "    print(f\"RMSE: {rmse_train:.4f}\")\n",
    "    print(f\"R2: {r2_train:.4f}\")\n",
    "    \n",
    "    print('-------------------------------------')\n",
    "    \n",
    "    print(\"Model performance on Test set:\")\n",
    "    print(f\"MAE: {mae_test:.4f}\")\n",
    "    print(f\"MSE: {mse_test:.4f}\")\n",
    "    print(f\"RMSE: {rmse_test:.4f}\")\n",
    "    print(f\"R2: {r2_test:.4f}\")\n",
    "    \n",
    "    r2_list.append(r2_test)\n",
    "    \n",
    "    print('='*40)\n",
    "    print('\\n')"
   ]
  }
 ],
 "metadata": {
  "kernelspec": {
   "display_name": "Python 3",
   "language": "python",
   "name": "python3"
  },
  "language_info": {
   "codemirror_mode": {
    "name": "ipython",
    "version": 3
   },
   "file_extension": ".py",
   "mimetype": "text/x-python",
   "name": "python",
   "nbconvert_exporter": "python",
   "pygments_lexer": "ipython3",
   "version": "3.13.2"
  }
 },
 "nbformat": 4,
 "nbformat_minor": 5
}
