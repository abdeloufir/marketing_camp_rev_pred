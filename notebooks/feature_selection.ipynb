{
 "cells": [
  {
   "cell_type": "code",
   "execution_count": 1,
   "metadata": {},
   "outputs": [],
   "source": [
    "import pandas as pd\n",
    "import numpy as np\n",
    "import matplotlib.pyplot as plt \n",
    "import seaborn as sns"
   ]
  },
  {
   "cell_type": "markdown",
   "metadata": {},
   "source": [
    "# **Feature Selection**"
   ]
  },
  {
   "cell_type": "markdown",
   "metadata": {},
   "source": [
    "Tree-based models such as RandomForest, XGBoost or LightGBM provide 'feature_importance_' method that rank features.\n",
    "\n",
    "We can use that, then drop the ones we don't need based on a threshold or percentile. A common practice would be to the fix the threshold at 1% - which works well when you have many features - or percentile_based, meaning sorting features by importance and keeping the smallest number of features whose total importance adds up to 80-95%. "
   ]
  },
  {
   "cell_type": "code",
   "execution_count": 1,
   "metadata": {},
   "outputs": [],
   "source": [
    "from sklearn.ensemble import ExtraTreesRegressor\n",
    "import pandas as pd\n",
    "import matplotlib.pyplot as plt"
   ]
  },
  {
   "cell_type": "code",
   "execution_count": 2,
   "metadata": {},
   "outputs": [],
   "source": [
    "X_train = pd.read_csv('C:/Users/S580381/Documents/GitHub/marketing_camp_rev_pred/data/X_train.csv')\n",
    "y_train = pd.read_csv('C:/Users/S580381/Documents/GitHub/marketing_camp_rev_pred/data/y_train.csv')\n",
    "X_test = pd.read_csv('C:/Users/S580381/Documents/GitHub/marketing_camp_rev_pred/data/X_test.csv')\n",
    "y_test = pd.read_csv('C:/Users/S580381/Documents/GitHub/marketing_camp_rev_pred/data/y_test.csv')"
   ]
  },
  {
   "cell_type": "code",
   "execution_count": 3,
   "metadata": {},
   "outputs": [
    {
     "name": "stderr",
     "output_type": "stream",
     "text": [
      "c:\\Users\\S580381\\AppData\\Local\\Programs\\Python\\Python313\\Lib\\site-packages\\sklearn\\base.py:1389: DataConversionWarning: A column-vector y was passed when a 1d array was expected. Please change the shape of y to (n_samples,), for example using ravel().\n",
      "  return fit_method(estimator, *args, **kwargs)\n"
     ]
    }
   ],
   "source": [
    "#Train data\n",
    "model = ExtraTreesRegressor(n_estimators=100, random_state=42)\n",
    "model.fit(X_train, y_train)\n",
    "\n",
    "#Get feature importances\n",
    "importances = model.feature_importances_\n",
    "feature_names = X_train.columns"
   ]
  },
  {
   "cell_type": "code",
   "execution_count": 4,
   "metadata": {},
   "outputs": [
    {
     "data": {
      "image/png": "[encoded data removed]",
      "text/plain": [
       "<Figure size 1000x500 with 1 Axes>"
      ]
     },
     "metadata": {},
     "output_type": "display_data"
    }
   ],
   "source": [
    "#Visualize feature importance\n",
    "feat_importance_df = pd.DataFrame({\n",
    "    'Feature': feature_names,\n",
    "    'Importance': importances\n",
    "}).sort_values(by='Importance', ascending=False)\n",
    "\n",
    "plt.figure(figsize=(10, 5))\n",
    "plt.barh(feat_importance_df['Feature'], feat_importance_df['Importance'])\n",
    "plt.xlabel(\"Feature Importance Score\")\n",
    "plt.title(\"Feature Importance (ExtraTreesRegressor)\")\n",
    "plt.gca().invert_yaxis()\n",
    "plt.tight_layout()\n",
    "plt.show()"
   ]
  },
  {
   "cell_type": "code",
   "execution_count": 5,
   "metadata": {},
   "outputs": [],
   "source": [
    "#Selecting feature based on threshold\n",
    "selected_features = feat_importance_df[feat_importance_df['Importance'] > 0.01]['Feature']\n",
    "X_train = X_train[selected_features]\n",
    "X_test = X_test[selected_features] "
   ]
  },
  {
   "cell_type": "code",
   "execution_count": 6,
   "metadata": {},
   "outputs": [
    {
     "data": {
      "text/html": [
       "<div>\n",
       "<style scoped>\n",
       "    .dataframe tbody tr th:only-of-type {\n",
       "        vertical-align: middle;\n",
       "    }\n",
       "\n",
       "    .dataframe tbody tr th {\n",
       "        vertical-align: top;\n",
       "    }\n",
       "\n",
       "    .dataframe thead th {\n",
       "        text-align: right;\n",
       "    }\n",
       "</style>\n",
       "<table border=\"1\" class=\"dataframe\">\n",
       "  <thead>\n",
       "    <tr style=\"text-align: right;\">\n",
       "      <th></th>\n",
       "      <th>Impressions</th>\n",
       "      <th>Conversion_Rate</th>\n",
       "      <th>Spent</th>\n",
       "      <th>Clicks</th>\n",
       "      <th>Cpa</th>\n",
       "      <th>Age</th>\n",
       "    </tr>\n",
       "  </thead>\n",
       "  <tbody>\n",
       "    <tr>\n",
       "      <th>0</th>\n",
       "      <td>5117</td>\n",
       "      <td>0.000000</td>\n",
       "      <td>0.000000</td>\n",
       "      <td>0</td>\n",
       "      <td>0.000000</td>\n",
       "      <td>32</td>\n",
       "    </tr>\n",
       "    <tr>\n",
       "      <th>1</th>\n",
       "      <td>478480</td>\n",
       "      <td>0.040000</td>\n",
       "      <td>135.750001</td>\n",
       "      <td>75</td>\n",
       "      <td>45.250000</td>\n",
       "      <td>47</td>\n",
       "    </tr>\n",
       "    <tr>\n",
       "      <th>2</th>\n",
       "      <td>76355</td>\n",
       "      <td>0.222222</td>\n",
       "      <td>14.630000</td>\n",
       "      <td>9</td>\n",
       "      <td>7.315000</td>\n",
       "      <td>37</td>\n",
       "    </tr>\n",
       "    <tr>\n",
       "      <th>3</th>\n",
       "      <td>475184</td>\n",
       "      <td>0.045455</td>\n",
       "      <td>127.320003</td>\n",
       "      <td>88</td>\n",
       "      <td>31.830001</td>\n",
       "      <td>37</td>\n",
       "    </tr>\n",
       "    <tr>\n",
       "      <th>4</th>\n",
       "      <td>208572</td>\n",
       "      <td>0.055556</td>\n",
       "      <td>60.760000</td>\n",
       "      <td>36</td>\n",
       "      <td>30.380000</td>\n",
       "      <td>42</td>\n",
       "    </tr>\n",
       "  </tbody>\n",
       "</table>\n",
       "</div>"
      ],
      "text/plain": [
       "   Impressions  Conversion_Rate       Spent  Clicks        Cpa  Age\n",
       "0         5117         0.000000    0.000000       0   0.000000   32\n",
       "1       478480         0.040000  135.750001      75  45.250000   47\n",
       "2        76355         0.222222   14.630000       9   7.315000   37\n",
       "3       475184         0.045455  127.320003      88  31.830001   37\n",
       "4       208572         0.055556   60.760000      36  30.380000   42"
      ]
     },
     "execution_count": 6,
     "metadata": {},
     "output_type": "execute_result"
    }
   ],
   "source": [
    "X_train.head()"
   ]
  },
  {
   "cell_type": "code",
   "execution_count": 7,
   "metadata": {},
   "outputs": [
    {
     "data": {
      "text/html": [
       "<div>\n",
       "<style scoped>\n",
       "    .dataframe tbody tr th:only-of-type {\n",
       "        vertical-align: middle;\n",
       "    }\n",
       "\n",
       "    .dataframe tbody tr th {\n",
       "        vertical-align: top;\n",
       "    }\n",
       "\n",
       "    .dataframe thead th {\n",
       "        text-align: right;\n",
       "    }\n",
       "</style>\n",
       "<table border=\"1\" class=\"dataframe\">\n",
       "  <thead>\n",
       "    <tr style=\"text-align: right;\">\n",
       "      <th></th>\n",
       "      <th>Impressions</th>\n",
       "      <th>Conversion_Rate</th>\n",
       "      <th>Spent</th>\n",
       "      <th>Clicks</th>\n",
       "      <th>Cpa</th>\n",
       "      <th>Age</th>\n",
       "    </tr>\n",
       "  </thead>\n",
       "  <tbody>\n",
       "    <tr>\n",
       "      <th>0</th>\n",
       "      <td>792</td>\n",
       "      <td>0.000000</td>\n",
       "      <td>0.000000</td>\n",
       "      <td>0</td>\n",
       "      <td>0.000000</td>\n",
       "      <td>32</td>\n",
       "    </tr>\n",
       "    <tr>\n",
       "      <th>1</th>\n",
       "      <td>134245</td>\n",
       "      <td>0.111111</td>\n",
       "      <td>25.750000</td>\n",
       "      <td>18</td>\n",
       "      <td>12.875000</td>\n",
       "      <td>47</td>\n",
       "    </tr>\n",
       "    <tr>\n",
       "      <th>2</th>\n",
       "      <td>13473</td>\n",
       "      <td>1.000000</td>\n",
       "      <td>2.620000</td>\n",
       "      <td>3</td>\n",
       "      <td>0.873333</td>\n",
       "      <td>32</td>\n",
       "    </tr>\n",
       "    <tr>\n",
       "      <th>3</th>\n",
       "      <td>98759</td>\n",
       "      <td>0.066667</td>\n",
       "      <td>26.569999</td>\n",
       "      <td>15</td>\n",
       "      <td>26.569999</td>\n",
       "      <td>32</td>\n",
       "    </tr>\n",
       "    <tr>\n",
       "      <th>4</th>\n",
       "      <td>2912</td>\n",
       "      <td>0.000000</td>\n",
       "      <td>0.000000</td>\n",
       "      <td>0</td>\n",
       "      <td>0.000000</td>\n",
       "      <td>47</td>\n",
       "    </tr>\n",
       "  </tbody>\n",
       "</table>\n",
       "</div>"
      ],
      "text/plain": [
       "   Impressions  Conversion_Rate      Spent  Clicks        Cpa  Age\n",
       "0          792         0.000000   0.000000       0   0.000000   32\n",
       "1       134245         0.111111  25.750000      18  12.875000   47\n",
       "2        13473         1.000000   2.620000       3   0.873333   32\n",
       "3        98759         0.066667  26.569999      15  26.569999   32\n",
       "4         2912         0.000000   0.000000       0   0.000000   47"
      ]
     },
     "execution_count": 7,
     "metadata": {},
     "output_type": "execute_result"
    }
   ],
   "source": [
    "X_test.head()"
   ]
  },
  {
   "cell_type": "code",
   "execution_count": 74,
   "metadata": {},
   "outputs": [],
   "source": [
    "#Save the selected features to a CSV file\n",
    "X_train.to_csv('C:/Users/S580381/Documents/GitHub/marketing_camp_rev_pred/data/X_train.csv', index=False)\n",
    "X_test.to_csv('C:/Users/S580381/Documents/GitHub/marketing_camp_rev_pred/data/X_test.csv', index=False)"
   ]
  }
 ],
 "metadata": {
  "kernelspec": {
   "display_name": "Python 3",
   "language": "python",
   "name": "python3"
  },
  "language_info": {
   "codemirror_mode": {
    "name": "ipython",
    "version": 3
   },
   "file_extension": ".py",
   "mimetype": "text/x-python",
   "name": "python",
   "nbconvert_exporter": "python",
   "pygments_lexer": "ipython3",
   "version": "3.13.2"
  }
 },
 "nbformat": 4,
 "nbformat_minor": 2
}
